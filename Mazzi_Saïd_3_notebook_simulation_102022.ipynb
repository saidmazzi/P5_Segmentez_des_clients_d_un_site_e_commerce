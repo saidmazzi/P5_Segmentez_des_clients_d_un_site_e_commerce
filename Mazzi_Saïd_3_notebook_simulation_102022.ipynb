{
 "cells": [
  {
   "cell_type": "markdown",
   "id": "f83af0f7",
   "metadata": {},
   "source": [
    "# Projet 5 : Segmentez des clients d'un site e-commerce\n",
    "\n",
    "L'objectif du projet est d'établir un contrat de maintenance de l'algorithme de segmentation client, nous devons tester sa stabilité dans le temps et voir, par exemple, à quel moment les clients changent de Cluster."
   ]
  },
  {
   "cell_type": "markdown",
   "id": "303e16bc",
   "metadata": {},
   "source": [
    "## Sommaire:\n",
    "\n",
    "## - I/ Importation des données\n",
    "   \n",
    "## - II/ Contrat de maintenance"
   ]
  },
  {
   "cell_type": "code",
   "execution_count": null,
   "id": "616f2c03",
   "metadata": {},
   "outputs": [],
   "source": []
  },
  {
   "cell_type": "markdown",
   "id": "0485462c",
   "metadata": {},
   "source": [
    "## I/ Importation des données"
   ]
  },
  {
   "cell_type": "code",
   "execution_count": 1,
   "id": "4b520472",
   "metadata": {},
   "outputs": [],
   "source": [
    "import pandas as pd\n",
    "import numpy as np\n",
    "import seaborn as sns\n",
    "import matplotlib.pyplot as plt\n",
    "plt.style.use('seaborn-whitegrid')\n",
    "%matplotlib inline\n",
    "import datetime\n",
    "from sklearn.datasets import make_blobs\n",
    "from sklearn import metrics\n",
    "from sklearn.metrics import silhouette_score\n",
    "from sklearn.decomposition import PCA\n",
    "from sklearn.manifold import TSNE\n",
    "from sklearn.cluster import KMeans\n",
    "from sklearn.cluster import DBSCAN\n",
    "from sklearn.preprocessing import OneHotEncoder, StandardScaler, MinMaxScaler\n",
    "from sklearn.compose import ColumnTransformer\n",
    "from sklearn.pipeline import Pipeline, make_pipeline\n",
    "from sklearn.metrics import homogeneity_score, adjusted_rand_score, adjusted_mutual_info_score\n",
    "from sklearn import metrics\n",
    "import seaborn as sns\n"
   ]
  },
  {
   "cell_type": "code",
   "execution_count": 2,
   "id": "90b051c7",
   "metadata": {
    "scrolled": true
   },
   "outputs": [
    {
     "name": "stdout",
     "output_type": "stream",
     "text": [
      "version numpy :1.20.1\n",
      "version pandas :1.2.4\n",
      "version seaborn :0.11.1\n"
     ]
    }
   ],
   "source": [
    "print(\"version numpy :\" + np.__version__)\n",
    "print(\"version pandas :\" + pd.__version__)\n",
    "print(\"version seaborn :\" + sns.__version__)"
   ]
  },
  {
   "cell_type": "code",
   "execution_count": 3,
   "id": "e22de297",
   "metadata": {},
   "outputs": [],
   "source": [
    "data_init = pd.read_csv(\"data_nettoye.csv\", sep=\",\", parse_dates=False)"
   ]
  },
  {
   "cell_type": "code",
   "execution_count": 4,
   "id": "51feced7",
   "metadata": {},
   "outputs": [],
   "source": [
    "#on va supprimer les features qui ont une forte corrélation entre elles\n",
    "data_init = data_init.drop([\"price\",\"Qty_pdt_customer\",\"freight_value\",\"order_id\"], axis=1)\n",
    "#On va supprimer les features qui ne correspondent pas au \"data_rfm_rs\"\n",
    "data_init = data_init.drop([\"payment_sequential_count\",\"payment_installments_sum\",\"sales\",\"Avg_delivery\"], axis=1)"
   ]
  },
  {
   "cell_type": "code",
   "execution_count": 5,
   "id": "ff89c2ae",
   "metadata": {
    "scrolled": true
   },
   "outputs": [
    {
     "data": {
      "text/html": [
       "<div>\n",
       "<style scoped>\n",
       "    .dataframe tbody tr th:only-of-type {\n",
       "        vertical-align: middle;\n",
       "    }\n",
       "\n",
       "    .dataframe tbody tr th {\n",
       "        vertical-align: top;\n",
       "    }\n",
       "\n",
       "    .dataframe thead th {\n",
       "        text-align: right;\n",
       "    }\n",
       "</style>\n",
       "<table border=\"1\" class=\"dataframe\">\n",
       "  <thead>\n",
       "    <tr style=\"text-align: right;\">\n",
       "      <th></th>\n",
       "      <th>customer_unique_id</th>\n",
       "      <th>review_score_mean</th>\n",
       "      <th>order_purchase_timestamp</th>\n",
       "      <th>Avg_purchases</th>\n",
       "      <th>Avg_qty_prod_order</th>\n",
       "      <th>last_purchase_delay</th>\n",
       "    </tr>\n",
       "  </thead>\n",
       "  <tbody>\n",
       "    <tr>\n",
       "      <th>0</th>\n",
       "      <td>0000366f3b9a7992bf8c76cfdf3221e2</td>\n",
       "      <td>5.0</td>\n",
       "      <td>2018-05-10 10:56:27</td>\n",
       "      <td>129.90</td>\n",
       "      <td>1.0</td>\n",
       "      <td>111.0</td>\n",
       "    </tr>\n",
       "    <tr>\n",
       "      <th>1</th>\n",
       "      <td>0000b849f77a49e4a4ce2b2a4ca5be3f</td>\n",
       "      <td>4.0</td>\n",
       "      <td>2018-05-07 11:11:27</td>\n",
       "      <td>18.90</td>\n",
       "      <td>1.0</td>\n",
       "      <td>114.0</td>\n",
       "    </tr>\n",
       "    <tr>\n",
       "      <th>2</th>\n",
       "      <td>0000f46a3911fa3c0805444483337064</td>\n",
       "      <td>3.0</td>\n",
       "      <td>2017-03-10 21:05:03</td>\n",
       "      <td>69.00</td>\n",
       "      <td>1.0</td>\n",
       "      <td>536.0</td>\n",
       "    </tr>\n",
       "    <tr>\n",
       "      <th>3</th>\n",
       "      <td>0000f6ccb0745a6a4b88665a16c9f078</td>\n",
       "      <td>4.0</td>\n",
       "      <td>2017-10-12 20:29:41</td>\n",
       "      <td>25.99</td>\n",
       "      <td>1.0</td>\n",
       "      <td>320.0</td>\n",
       "    </tr>\n",
       "    <tr>\n",
       "      <th>4</th>\n",
       "      <td>0004aac84e0df4da2b147fca70cf8255</td>\n",
       "      <td>5.0</td>\n",
       "      <td>2017-11-14 19:45:42</td>\n",
       "      <td>180.00</td>\n",
       "      <td>1.0</td>\n",
       "      <td>287.0</td>\n",
       "    </tr>\n",
       "  </tbody>\n",
       "</table>\n",
       "</div>"
      ],
      "text/plain": [
       "                 customer_unique_id  review_score_mean  \\\n",
       "0  0000366f3b9a7992bf8c76cfdf3221e2                5.0   \n",
       "1  0000b849f77a49e4a4ce2b2a4ca5be3f                4.0   \n",
       "2  0000f46a3911fa3c0805444483337064                3.0   \n",
       "3  0000f6ccb0745a6a4b88665a16c9f078                4.0   \n",
       "4  0004aac84e0df4da2b147fca70cf8255                5.0   \n",
       "\n",
       "  order_purchase_timestamp  Avg_purchases  Avg_qty_prod_order  \\\n",
       "0      2018-05-10 10:56:27         129.90                 1.0   \n",
       "1      2018-05-07 11:11:27          18.90                 1.0   \n",
       "2      2017-03-10 21:05:03          69.00                 1.0   \n",
       "3      2017-10-12 20:29:41          25.99                 1.0   \n",
       "4      2017-11-14 19:45:42         180.00                 1.0   \n",
       "\n",
       "   last_purchase_delay  \n",
       "0                111.0  \n",
       "1                114.0  \n",
       "2                536.0  \n",
       "3                320.0  \n",
       "4                287.0  "
      ]
     },
     "execution_count": 5,
     "metadata": {},
     "output_type": "execute_result"
    }
   ],
   "source": [
    "data_init.head(5)"
   ]
  },
  {
   "cell_type": "code",
   "execution_count": 6,
   "id": "833abcc1",
   "metadata": {},
   "outputs": [],
   "source": [
    "data_init.set_index('customer_unique_id', inplace=True)"
   ]
  },
  {
   "cell_type": "code",
   "execution_count": 7,
   "id": "375e0219",
   "metadata": {
    "scrolled": true
   },
   "outputs": [
    {
     "data": {
      "text/plain": [
       "review_score_mean           0\n",
       "order_purchase_timestamp    0\n",
       "Avg_purchases               0\n",
       "Avg_qty_prod_order          0\n",
       "last_purchase_delay         0\n",
       "dtype: int64"
      ]
     },
     "execution_count": 7,
     "metadata": {},
     "output_type": "execute_result"
    }
   ],
   "source": [
    "data_init.isna().sum()"
   ]
  },
  {
   "cell_type": "code",
   "execution_count": 8,
   "id": "6e18eb2f",
   "metadata": {
    "scrolled": false
   },
   "outputs": [
    {
     "data": {
      "text/plain": [
       "(109413, 5)"
      ]
     },
     "execution_count": 8,
     "metadata": {},
     "output_type": "execute_result"
    }
   ],
   "source": [
    "data_init.shape"
   ]
  },
  {
   "cell_type": "code",
   "execution_count": 9,
   "id": "2d4c15f7",
   "metadata": {
    "scrolled": true
   },
   "outputs": [
    {
     "data": {
      "text/plain": [
       "review_score_mean           float64\n",
       "order_purchase_timestamp     object\n",
       "Avg_purchases               float64\n",
       "Avg_qty_prod_order          float64\n",
       "last_purchase_delay         float64\n",
       "dtype: object"
      ]
     },
     "execution_count": 9,
     "metadata": {},
     "output_type": "execute_result"
    }
   ],
   "source": [
    "data_init.dtypes"
   ]
  },
  {
   "cell_type": "code",
   "execution_count": 10,
   "id": "86a504d9",
   "metadata": {
    "scrolled": false
   },
   "outputs": [],
   "source": [
    "#data_init['order_purchase_timestamp'] = data_init['order_purchase_timestamp'].astype('datetime64')\n",
    "data_init['order_purchase_timestamp'] = pd.to_datetime(data_init['order_purchase_timestamp'],dayfirst=True, errors='coerce')"
   ]
  },
  {
   "cell_type": "code",
   "execution_count": 11,
   "id": "fcedfda8",
   "metadata": {
    "scrolled": true
   },
   "outputs": [
    {
     "data": {
      "text/plain": [
       "review_score_mean                  float64\n",
       "order_purchase_timestamp    datetime64[ns]\n",
       "Avg_purchases                      float64\n",
       "Avg_qty_prod_order                 float64\n",
       "last_purchase_delay                float64\n",
       "dtype: object"
      ]
     },
     "execution_count": 11,
     "metadata": {},
     "output_type": "execute_result"
    }
   ],
   "source": [
    "data_init.dtypes"
   ]
  },
  {
   "cell_type": "code",
   "execution_count": 12,
   "id": "406a3e14",
   "metadata": {
    "scrolled": true
   },
   "outputs": [
    {
     "name": "stdout",
     "output_type": "stream",
     "text": [
      "La période analysée commence le 2016-10-03 16:56:50 et se termine le 2018-08-29 15:00:37\n",
      "La période dure :694 days 22:03:47\n"
     ]
    }
   ],
   "source": [
    "#période analysée (date 1ère cde et dernière cde)\n",
    "print(\"La période analysée commence le \" + str(data_init['order_purchase_timestamp'].min())+\" et se termine le \" +str(data_init['order_purchase_timestamp'].max()))\n",
    "print(\"La période dure :\" +str(data_init['order_purchase_timestamp'].max()-data_init['order_purchase_timestamp'].min()))"
   ]
  },
  {
   "cell_type": "markdown",
   "id": "0c03aa77",
   "metadata": {},
   "source": [
    "## II/ Contrat de maintenance"
   ]
  },
  {
   "cell_type": "code",
   "execution_count": 13,
   "id": "18488eac",
   "metadata": {},
   "outputs": [],
   "source": [
    "data_init = data_init[data_init['order_purchase_timestamp'] > '2017-08-29 15:00:37']"
   ]
  },
  {
   "cell_type": "code",
   "execution_count": 14,
   "id": "d41c5552",
   "metadata": {},
   "outputs": [
    {
     "data": {
      "text/plain": [
       "(62966, 4)"
      ]
     },
     "execution_count": 14,
     "metadata": {},
     "output_type": "execute_result"
    }
   ],
   "source": [
    "data_prim = data_init.copy()\n",
    "del data_prim['order_purchase_timestamp']\n",
    "data_prim.shape"
   ]
  },
  {
   "cell_type": "markdown",
   "id": "f00e7b19",
   "metadata": {},
   "source": [
    "### - Méthodologie pour calculer la stabilité"
   ]
  },
  {
   "cell_type": "markdown",
   "id": "6f0ca625",
   "metadata": {},
   "source": [
    "- Création d'un dataset RFM a t0\n",
    "- Fit d'un KMeans sur ce dataset a t0\n",
    "- Création d'un dataset RFM à t0+n\n",
    "- Fit d'un KMeans sur ce dataset à t0+n\n",
    "- comparer:\n",
    "   - ARI en comparant le predict du KMeans(t0) au fit  du KMeans(t0+n) sur le dataset t0+n pour les deux."
   ]
  },
  {
   "cell_type": "markdown",
   "id": "7e0b1616",
   "metadata": {},
   "source": [
    "### - Stabilité temporelle du clustering "
   ]
  },
  {
   "cell_type": "code",
   "execution_count": 15,
   "id": "a6e6cbbd",
   "metadata": {
    "scrolled": true
   },
   "outputs": [],
   "source": [
    "# Kmeans T0 sur aout 2017 à aout 2018\n",
    "num_columns_primo = data_prim.select_dtypes(include=['int32','int64','float64']).columns\n",
    "data_prim[num_columns_primo] = MinMaxScaler().fit_transform(data_prim[num_columns_primo])\n",
    "kmeans_primo = KMeans(n_clusters=4, n_init=1, init='random').fit(data_prim[num_columns_primo])\n",
    "primo_labels = kmeans_primo.labels_\n",
    "#kmeans_primo = Pipeline([(\"preprocess\", MinMaxScaler()),(\"kmeans\", KMeans(K, random_state=42))])\n",
    "#kmeans_primo.fit(data_prim)\n",
    "#primo_labels = kmeans_primo.named_steps['kmeans'].labels_"
   ]
  },
  {
   "cell_type": "code",
   "execution_count": 16,
   "id": "717f84e4",
   "metadata": {
    "scrolled": true
   },
   "outputs": [
    {
     "name": "stderr",
     "output_type": "stream",
     "text": [
      "/Users/saidmazzi/opt/anaconda3/lib/python3.8/site-packages/sklearn/base.py:450: UserWarning: X does not have valid feature names, but KMeans was fitted with feature names\n",
      "  warnings.warn(\n",
      "/Users/saidmazzi/opt/anaconda3/lib/python3.8/site-packages/sklearn/base.py:450: UserWarning: X does not have valid feature names, but KMeans was fitted with feature names\n",
      "  warnings.warn(\n",
      "/Users/saidmazzi/opt/anaconda3/lib/python3.8/site-packages/sklearn/base.py:450: UserWarning: X does not have valid feature names, but KMeans was fitted with feature names\n",
      "  warnings.warn(\n",
      "/Users/saidmazzi/opt/anaconda3/lib/python3.8/site-packages/sklearn/base.py:450: UserWarning: X does not have valid feature names, but KMeans was fitted with feature names\n",
      "  warnings.warn(\n",
      "/Users/saidmazzi/opt/anaconda3/lib/python3.8/site-packages/sklearn/base.py:450: UserWarning: X does not have valid feature names, but KMeans was fitted with feature names\n",
      "  warnings.warn(\n",
      "/Users/saidmazzi/opt/anaconda3/lib/python3.8/site-packages/sklearn/base.py:450: UserWarning: X does not have valid feature names, but KMeans was fitted with feature names\n",
      "  warnings.warn(\n",
      "/Users/saidmazzi/opt/anaconda3/lib/python3.8/site-packages/sklearn/base.py:450: UserWarning: X does not have valid feature names, but KMeans was fitted with feature names\n",
      "  warnings.warn(\n",
      "/Users/saidmazzi/opt/anaconda3/lib/python3.8/site-packages/sklearn/base.py:450: UserWarning: X does not have valid feature names, but KMeans was fitted with feature names\n",
      "  warnings.warn(\n",
      "/Users/saidmazzi/opt/anaconda3/lib/python3.8/site-packages/sklearn/base.py:450: UserWarning: X does not have valid feature names, but KMeans was fitted with feature names\n",
      "  warnings.warn(\n",
      "/Users/saidmazzi/opt/anaconda3/lib/python3.8/site-packages/sklearn/base.py:450: UserWarning: X does not have valid feature names, but KMeans was fitted with feature names\n",
      "  warnings.warn(\n",
      "/Users/saidmazzi/opt/anaconda3/lib/python3.8/site-packages/sklearn/base.py:450: UserWarning: X does not have valid feature names, but KMeans was fitted with feature names\n",
      "  warnings.warn(\n",
      "/Users/saidmazzi/opt/anaconda3/lib/python3.8/site-packages/sklearn/base.py:450: UserWarning: X does not have valid feature names, but KMeans was fitted with feature names\n",
      "  warnings.warn(\n",
      "/Users/saidmazzi/opt/anaconda3/lib/python3.8/site-packages/sklearn/base.py:450: UserWarning: X does not have valid feature names, but KMeans was fitted with feature names\n",
      "  warnings.warn(\n",
      "/Users/saidmazzi/opt/anaconda3/lib/python3.8/site-packages/sklearn/base.py:450: UserWarning: X does not have valid feature names, but KMeans was fitted with feature names\n",
      "  warnings.warn(\n"
     ]
    }
   ],
   "source": [
    "score_ari = []\n",
    "k_cluster = []\n",
    "for i in range(1,15):\n",
    "       \n",
    "        #Création des datasets par periode t0+i\n",
    "        date_delta_i = data_init['order_purchase_timestamp'].max() - i*np.timedelta64(1,'M')\n",
    "        period_i=data_init[data_init['order_purchase_timestamp'] > date_delta_i]\n",
    "        del period_i[\"order_purchase_timestamp\"]\n",
    "        \n",
    "        #T0+i     \n",
    "        #num_columns = period_i.select_dtypes(include=['int32','int64','float64']).columns\n",
    "        period_i = MinMaxScaler().fit_transform(period_i)\n",
    "        kmeans_i = KMeans(n_clusters=4, n_init=1, init='random').fit(period_i)\n",
    "        \n",
    "        #preprocess = ColumnTransformer([('mms', MinMaxScaler(), num_columns)])\n",
    "        #kmeans_i = Pipeline([(\"preprocessor\", preprocess),(\"kmeans\", KMeans(K, random_state=42))])\n",
    "        #kmeans_i.fit_transform(period_i)\n",
    "        #labels_i = kmeans_i.named_steps['kmeans'].labels_\n",
    "            \n",
    "        labels_i = kmeans_i.labels_\n",
    "        pred_i = kmeans_primo.predict(period_i)\n",
    "\n",
    "        #Calcul du Score ARI\n",
    "        ari_i = metrics.adjusted_rand_score( pred_i,labels_i)\n",
    "        score_ari.append([i,ari_i])\n",
    "score_ari = pd.DataFrame(score_ari, columns=['Mois','Score ARI'])       "
   ]
  },
  {
   "cell_type": "markdown",
   "id": "7e113ad7",
   "metadata": {},
   "source": [
    "### - Graphique"
   ]
  },
  {
   "cell_type": "code",
   "execution_count": 17,
   "id": "4658f860",
   "metadata": {
    "scrolled": false
   },
   "outputs": [
    {
     "data": {
      "image/png": "[encoded data removed]",
      "text/plain": [
       "<Figure size 1008x432 with 1 Axes>"
      ]
     },
     "metadata": {
      "needs_background": "light"
     },
     "output_type": "display_data"
    }
   ],
   "source": [
    "fig = plt.figure(figsize=(14,6))\n",
    "sns.lineplot(data=score_ari, x=\"Mois\", y=\"Score ARI\")\n",
    "\n",
    "plt.xlabel(\"Mois\")\n",
    "plt.ylabel(\"Score ARI\")\n",
    "plt.title(\"Stabilité du clustering par KMeans dans le temps\",fontsize=15,color=\"green\")\n",
    "plt.show()"
   ]
  },
  {
   "cell_type": "markdown",
   "id": "d2658f5c",
   "metadata": {},
   "source": [
    "- Sur ce graphe, on a les scores ARI obtenus sur des itérations par période d'un mois, on constate une forte inflexion après 6 mois sur les clients de référence.\n",
    "\n",
    "- Il faudra donc prévoir la maintenance du programme de segmentation tous les 7 mois dans un premier temps puis re-tester cette stabilité afin de l'améliorer. Il faudra donc redéfinir les segments clients à chaque maintenance."
   ]
  },
  {
   "cell_type": "code",
   "execution_count": null,
   "id": "7f87ddc7",
   "metadata": {},
   "outputs": [],
   "source": []
  }
 ],
 "metadata": {
  "kernelspec": {
   "display_name": "Python 3",
   "language": "python",
   "name": "python3"
  },
  "language_info": {
   "codemirror_mode": {
    "name": "ipython",
    "version": 3
   },
   "file_extension": ".py",
   "mimetype": "text/x-python",
   "name": "python",
   "nbconvert_exporter": "python",
   "pygments_lexer": "ipython3",
   "version": "3.8.8"
  }
 },
 "nbformat": 4,
 "nbformat_minor": 5
}
